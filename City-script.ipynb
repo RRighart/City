{
 "cells": [
  {
   "cell_type": "markdown",
   "metadata": {},
   "source": [
    "# **Python Data Analyses and Visualization** \n",
    "# **Applied to European city data**"
   ]
  },
  {
   "cell_type": "markdown",
   "metadata": {},
   "source": [
    "**<center>Ruthger Righart</center>**\n",
    "<center><font color=\"blue\">rrighart@googlemail.com</font></center>\n",
    "<center><font color=\"blue\">[https://rrighart.github.io](https://rrighart.github.io)</font></center>"
   ]
  },
  {
   "cell_type": "markdown",
   "metadata": {},
   "source": [
    "## **<a name=\"contents\">Contents</a>**\n",
    "\n",
    "1. [Introduction](#q1)\n",
    "2. [Jupyter notebook and loading packages](#q2)\n",
    "3. [Create a DataFrame manually](#q3) <font color=\"gray\">[pd.DataFrame, head, tail]</font>\n",
    "4. [Selecting rows and columns](#q4) <font color=\"gray\">[loc, iloc]</font>\n",
    "5. [Data types](#q5) <font color=\"gray\">[type, dtypes, astype]</font>\n",
    "6. [Basic properties](#q6) <font color=\"gray\">[columns, index, values, shape, len]</font>\n",
    "7. [Load another DataFrame](#q7) <font color=\"gray\">[pd.read_csv, value_counts]</font>\n",
    "8. [Append two DataFrames](#q8) <font color=\"gray\">[append, pd.concat]</font>\n",
    "9. [Missing values](#q9) <font color=\"gray\">[pd.isnull, count, dropna, describe]</font>\n",
    "10. [Sorting the DataFrame](#q10) <font color=\"gray\">[sort_index, sort_values]</font>\n",
    "11. [Data selection by position](#q11) <font color=\"gray\">[iloc]</font>\n",
    "12. [Conditional data selection](#q12) <font color=\"gray\">[>,==,!=,&,^,|]</font>\n",
    "13. [Selection based on string](#q13) <font color=\"gray\">[str.contains]</font>\n",
    "14. [Adding single rows](#q14) <font color=\"gray\">[loc, pd.Series, append]</font>\n",
    "15. [Exploratory analyses using boxplots](#q15) <font color=\"gray\">[describe, Matplotlib boxplot]</font>\n",
    "16. [Barplots](#q16) <font color=\"gray\">[Matplotlib]</font>\n",
    "17. [Pie Charts](#q17) <font color=\"gray\">[Matplotlib, Plotly]</font>\n",
    "18. [Scatterplots](#q18) <font color=\"gray\">[Matplotlib]</font>\n",
    "19. [Replacing values](#q19) <font color=\"gray\">[replace]</font>\n",
    "20. [Data categorization](#q20) <font color=\"gray\">[pd.cut, pd.value_counts, Matplotlib histogram, groupby]</font> \n",
    "21. [Data conversions](#q21) <font color=\"gray\">[loc, def]</font>\n",
    "22. [Merging data](#q22) <font color=\"gray\">[pd.merge]</font>\n",
    "23. [More scatterplots](#q23) <font color=\"gray\">[Matplotlib, Seaborn]</font>\n",
    "24. [Geographical mapping](#q24) <font color=\"gray\">[np.where, basemap]</font>\n",
    "25. [Lineplots](#q25) <font color=\"gray\">[sort_values, Matplotlib]</font>\n",
    "26. [Remove rows and columns](#q26) <font color=\"gray\">[del, drop]</font>\n",
    "27. [Save DataFrame](#q27) <font color=\"gray\">[to_csv]</font>"
   ]
  },
  {
   "cell_type": "markdown",
   "metadata": {},
   "source": [
    "**Python 2** was used for this guide. Please note that a few adaptation may be necessary for **Python 3**\n",
    "\n",
    "A few updates to the text were made *February 2018*."
   ]
  },
  {
   "cell_type": "markdown",
   "metadata": {},
   "source": [
    "## **<a name=\"q1\">1. Introduction</a>**"
   ]
  },
  {
   "cell_type": "markdown",
   "metadata": {},
   "source": [
    "Cities are interesting. Some people enjoy living in cities, others tend to avoid them and rather prefer the countryside. Whatever is your preference, one thing is true: Cities generate a huge amount of data that are good source for analyses.\n",
    "\n",
    "The following is a brief tutorial to get quick insight into Python data analyses and visualization. It is meant to be an introduction for beginners<sup>1</sup>. Much of this is already documented on the web, and sometimes with more detail. So why another guide?\n",
    "\n",
    "Many guides treat every topic separately and use new datasets everytime a new data problem is presented. There are however advantages of using the same dataset for learning a large variety of analyses. One advantage is time-related, in that all attention can be focused on coding without losing \"switching\" time understanding new datasets. More importantly, working on a single dataset one experiences the evolution from preprocessing till visualization.\n",
    "\n",
    "The goal of this tutorial is not to solve an important data science problem. For this, anyways, the presented data is too small. The goal is to use an intuitive dataset to learn Python, intuitive in the sense that it contains data that everyone can understand without prior domain knowledge. It should therefore be suitable for someone who is a starter in Data Science. \n",
    "\n",
    "We start this tutorial creating data, loading data, data munging and in the end several visualizations. Do not hesitate to contact me if you have any questions or suggestions: <font color=\"blue\">rrighart@googlemail.com</font>"
   ]
  },
  {
   "cell_type": "markdown",
   "metadata": {},
   "source": [
    "[<font color=\"gray\">▲▲▲</font>](#contents)"
   ]
  },
  {
   "cell_type": "markdown",
   "metadata": {},
   "source": [
    "## **<a name=\"q2\">2. Jupyter notebook and loading packages</a>**"
   ]
  },
  {
   "cell_type": "markdown",
   "metadata": {},
   "source": [
    "First start up IPython or Jupyter notebook. An installation guide can be found at the following page<sup>2</sup>. "
   ]
  },
  {
   "cell_type": "markdown",
   "metadata": {},
   "source": [
    "The current tutorial treats a great variety of data types, various preprocessing steps (for ex.: selecting data, merging data, replacing data, finding missing values), data visualization (for ex.: boxplots, barplots, pie-charts, geographic mapping), from different packages (for ex. Matplotlib, Seaborn, Plotly).\n",
    "\n",
    "In Python, several abbreviations are used, such as <font color=\"blue\">pd</font> for Pandas, <font color=\"blue\">np</font> for numpy etc. The abbreviations you can use for imported packages are arbitrary, but in this tutorial I used those that are used most commonly on platforms such as StackOverflow. The following packages are needed throughout the tutorial."
   ]
  },
  {
   "cell_type": "code",
   "execution_count": 1,
   "metadata": {
    "collapsed": true
   },
   "outputs": [],
   "source": [
    "import os\n",
    "import csv\n",
    "import pandas as pd\n",
    "import numpy as np\n",
    "from datetime import datetime"
   ]
  },
  {
   "cell_type": "markdown",
   "metadata": {},
   "source": [
    "The packages here below are needed for visualizations, such as Matplotlib, Seaborn, and Plotly:"
   ]
  },
  {
   "cell_type": "code",
   "execution_count": 2,
   "metadata": {
    "collapsed": true
   },
   "outputs": [],
   "source": [
    "import matplotlib as mpl\n",
    "import matplotlib.pyplot as plt\n",
    "import matplotlib.patches as mpatches\n",
    "from matplotlib import cm\n",
    "import seaborn as sns\n",
    "import plotly\n",
    "import plotly.plotly as py\n",
    "import plotly.graph_objs as go"
   ]
  },
  {
   "cell_type": "markdown",
   "metadata": {},
   "source": [
    "The following packages will be used for geographic mapping:"
   ]
  },
  {
   "cell_type": "code",
   "execution_count": 3,
   "metadata": {
    "collapsed": true
   },
   "outputs": [],
   "source": [
    "from mpl_toolkits.basemap import Basemap as Basemap\n",
    "from matplotlib.colors import rgb2hex\n",
    "from matplotlib.patches import Polygon\n",
    "from geopy.geocoders import Nominatim\n",
    "import math"
   ]
  },
  {
   "cell_type": "markdown",
   "metadata": {},
   "source": [
    "There is no problem of continuity when any of the visualizations or geographic mapping is skipped."
   ]
  },
  {
   "cell_type": "markdown",
   "metadata": {},
   "source": [
    "[<font color=\"gray\">▲▲▲</font>](#contents)"
   ]
  },
  {
   "cell_type": "markdown",
   "metadata": {},
   "source": [
    "## **<a name=\"q3\">3. Create a DataFrame manually </a>**"
   ]
  },
  {
   "cell_type": "markdown",
   "metadata": {},
   "source": [
    "We are going to use data from European cities, consisting of categorical and numerical data. The data were obtained from Wikipedia. *Temperatures* are daily means in Celsius. *Population* is urban population. *Altitude* is the highest level reported.\n",
    "\n",
    "We are going to create a DataFrame manually, later we will see how to load a DataFrame. After typing the following code, your DataFrame <font color=\"red\">df1</font> is created."
   ]
  },
  {
   "cell_type": "code",
   "execution_count": 4,
   "metadata": {
    "collapsed": true
   },
   "outputs": [],
   "source": [
    "data = {'Place': ['Amsterdam', 'Barcelona', 'Paris', 'Geneva', 'Munich', 'Athens', 'Vienna'],\n",
    "        'Temp_Jan': [3.4, 11.8, 5.0, 1.5, 0.3, 9.9, 1.2],\n",
    "        'Temp_Jul': [17.6, 25.7, 20.6, 20.2, 19.4, 28.5, 19.1],\n",
    "        'Language': ['Dutch', 'Catalan and Spanish', 'French', 'French', 'German', 'Greek', 'German'],\n",
    "        'Altitude': [-2, 12, np.nan, 375, 520, 338, 542],\n",
    "        'MeasureDate':[np.nan, np.nan, '01-01-2013', '01-12-2015', '31-12-2015', np.nan, '01-01-2017'],\n",
    "        'Population': [1351587,4740000,10601122,198072,1450381, 3090508, 2600000]}\n",
    "df1 = pd.DataFrame(data, columns = ['Place', 'Temp_Jan', 'Temp_Jul', 'Language', 'Altitude','MeasureDate', 'Population'])"
   ]
  },
  {
   "cell_type": "markdown",
   "metadata": {},
   "source": [
    "Inspecting the data will show us the following table. From now on, often the code <font color=\"blue\">.head()</font> will be used. By default the first five rows are shown. Putting any number inbetween the parentheses will change the number of rows. The command <font color=\"blue\">.tail()</font> does exactly the same but starting from the end."
   ]
  },
  {
   "cell_type": "code",
   "execution_count": 5,
   "metadata": {},
   "outputs": [
    {
     "data": {
      "text/html": [
       "<div>\n",
       "<style>\n",
       "    .dataframe thead tr:only-child th {\n",
       "        text-align: right;\n",
       "    }\n",
       "\n",
       "    .dataframe thead th {\n",
       "        text-align: left;\n",
       "    }\n",
       "\n",
       "    .dataframe tbody tr th {\n",
       "        vertical-align: top;\n",
       "    }\n",
       "</style>\n",
       "<table border=\"1\" class=\"dataframe\">\n",
       "  <thead>\n",
       "    <tr style=\"text-align: right;\">\n",
       "      <th></th>\n",
       "      <th>Place</th>\n",
       "      <th>Temp_Jan</th>\n",
       "      <th>Temp_Jul</th>\n",
       "      <th>Language</th>\n",
       "      <th>Altitude</th>\n",
       "      <th>MeasureDate</th>\n",
       "      <th>Population</th>\n",
       "    </tr>\n",
       "  </thead>\n",
       "  <tbody>\n",
       "    <tr>\n",
       "      <th>0</th>\n",
       "      <td>Amsterdam</td>\n",
       "      <td>3.4</td>\n",
       "      <td>17.6</td>\n",
       "      <td>Dutch</td>\n",
       "      <td>-2.0</td>\n",
       "      <td>NaN</td>\n",
       "      <td>1351587</td>\n",
       "    </tr>\n",
       "    <tr>\n",
       "      <th>1</th>\n",
       "      <td>Barcelona</td>\n",
       "      <td>11.8</td>\n",
       "      <td>25.7</td>\n",
       "      <td>Catalan and Spanish</td>\n",
       "      <td>12.0</td>\n",
       "      <td>NaN</td>\n",
       "      <td>4740000</td>\n",
       "    </tr>\n",
       "    <tr>\n",
       "      <th>2</th>\n",
       "      <td>Paris</td>\n",
       "      <td>5.0</td>\n",
       "      <td>20.6</td>\n",
       "      <td>French</td>\n",
       "      <td>NaN</td>\n",
       "      <td>01-01-2013</td>\n",
       "      <td>10601122</td>\n",
       "    </tr>\n",
       "    <tr>\n",
       "      <th>3</th>\n",
       "      <td>Geneva</td>\n",
       "      <td>1.5</td>\n",
       "      <td>20.2</td>\n",
       "      <td>French</td>\n",
       "      <td>375.0</td>\n",
       "      <td>01-12-2015</td>\n",
       "      <td>198072</td>\n",
       "    </tr>\n",
       "  </tbody>\n",
       "</table>\n",
       "</div>"
      ],
      "text/plain": [
       "       Place  Temp_Jan  Temp_Jul             Language  Altitude MeasureDate  \\\n",
       "0  Amsterdam       3.4      17.6                Dutch      -2.0         NaN   \n",
       "1  Barcelona      11.8      25.7  Catalan and Spanish      12.0         NaN   \n",
       "2      Paris       5.0      20.6               French       NaN  01-01-2013   \n",
       "3     Geneva       1.5      20.2               French     375.0  01-12-2015   \n",
       "\n",
       "   Population  \n",
       "0     1351587  \n",
       "1     4740000  \n",
       "2    10601122  \n",
       "3      198072  "
      ]
     },
     "execution_count": 5,
     "metadata": {},
     "output_type": "execute_result"
    }
   ],
   "source": [
    "df1.head(4)"
   ]
  },
  {
   "cell_type": "markdown",
   "metadata": {},
   "source": [
    "[<font color=\"gray\">▲▲▲</font>](#contents)"
   ]
  },
  {
   "cell_type": "markdown",
   "metadata": {},
   "source": [
    "## **<a name=\"q4\">4. Selecting rows and columns</a>**"
   ]
  },
  {
   "cell_type": "markdown",
   "metadata": {},
   "source": [
    "To select only one column or variable, we can use the columnname:"
   ]
  },
  {
   "cell_type": "code",
   "execution_count": 6,
   "metadata": {},
   "outputs": [
    {
     "data": {
      "text/plain": [
       "0     3.4\n",
       "1    11.8\n",
       "2     5.0\n",
       "Name: Temp_Jan, dtype: float64"
      ]
     },
     "execution_count": 6,
     "metadata": {},
     "output_type": "execute_result"
    }
   ],
   "source": [
    "df1['Temp_Jan'].head(3)"
   ]
  },
  {
   "cell_type": "markdown",
   "metadata": {},
   "source": [
    "Another notation that can be used and that gives the same result:"
   ]
  },
  {
   "cell_type": "code",
   "execution_count": 7,
   "metadata": {},
   "outputs": [
    {
     "data": {
      "text/plain": [
       "0     3.4\n",
       "1    11.8\n",
       "2     5.0\n",
       "Name: Temp_Jan, dtype: float64"
      ]
     },
     "execution_count": 7,
     "metadata": {},
     "output_type": "execute_result"
    }
   ],
   "source": [
    "df1.Temp_Jan.head(3)"
   ]
  },
  {
   "cell_type": "markdown",
   "metadata": {},
   "source": [
    "We can use .loc and .iloc notation, **df1.loc** or **df1.iloc**, for selecting rows and columns.\n",
    ".loc is label based, .iloc is integer position based. Let us look at these two.\n",
    "We first start with the **.loc** notation. The following selects all rows and one column:"
   ]
  },
  {
   "cell_type": "code",
   "execution_count": 18,
   "metadata": {},
   "outputs": [
    {
     "data": {
      "text/html": [
       "<div>\n",
       "<style>\n",
       "    .dataframe thead tr:only-child th {\n",
       "        text-align: right;\n",
       "    }\n",
       "\n",
       "    .dataframe thead th {\n",
       "        text-align: left;\n",
       "    }\n",
       "\n",
       "    .dataframe tbody tr th {\n",
       "        vertical-align: top;\n",
       "    }\n",
       "</style>\n",
       "<table border=\"1\" class=\"dataframe\">\n",
       "  <thead>\n",
       "    <tr style=\"text-align: right;\">\n",
       "      <th></th>\n",
       "      <th>Temp_Jan</th>\n",
       "    </tr>\n",
       "  </thead>\n",
       "  <tbody>\n",
       "    <tr>\n",
       "      <th>0</th>\n",
       "      <td>3.4</td>\n",
       "    </tr>\n",
       "    <tr>\n",
       "      <th>1</th>\n",
       "      <td>11.8</td>\n",
       "    </tr>\n",
       "    <tr>\n",
       "      <th>2</th>\n",
       "      <td>5.0</td>\n",
       "    </tr>\n",
       "  </tbody>\n",
       "</table>\n",
       "</div>"
      ],
      "text/plain": [
       "   Temp_Jan\n",
       "0       3.4\n",
       "1      11.8\n",
       "2       5.0"
      ]
     },
     "execution_count": 18,
     "metadata": {},
     "output_type": "execute_result"
    }
   ],
   "source": [
    "df1.loc[:,['Temp_Jan']].head(3)"
   ]
  },
  {
   "cell_type": "markdown",
   "metadata": {},
   "source": [
    "To select a row, for example the first row, do the following. Python starts indexing from 0 (0=first row, 1=second row, etc.):"
   ]
  },
  {
   "cell_type": "code",
   "execution_count": 14,
   "metadata": {},
   "outputs": [
    {
     "data": {
      "text/plain": [
       "Place          Amsterdam\n",
       "Temp_Jan             3.4\n",
       "Temp_Jul            17.6\n",
       "Language           Dutch\n",
       "Altitude              -2\n",
       "MeasureDate          NaN\n",
       "Population       1351587\n",
       "Name: 0, dtype: object"
      ]
     },
     "execution_count": 14,
     "metadata": {},
     "output_type": "execute_result"
    }
   ],
   "source": [
    "df1.loc[0,:]"
   ]
  },
  {
   "cell_type": "markdown",
   "metadata": {},
   "source": [
    "Sometimes we would like to choose a selection of rows *and* columns:"
   ]
  },
  {
   "cell_type": "code",
   "execution_count": 24,
   "metadata": {},
   "outputs": [
    {
     "data": {
      "text/html": [
       "<div>\n",
       "<style>\n",
       "    .dataframe thead tr:only-child th {\n",
       "        text-align: right;\n",
       "    }\n",
       "\n",
       "    .dataframe thead th {\n",
       "        text-align: left;\n",
       "    }\n",
       "\n",
       "    .dataframe tbody tr th {\n",
       "        vertical-align: top;\n",
       "    }\n",
       "</style>\n",
       "<table border=\"1\" class=\"dataframe\">\n",
       "  <thead>\n",
       "    <tr style=\"text-align: right;\">\n",
       "      <th></th>\n",
       "      <th>Temp_Jan</th>\n",
       "      <th>Temp_Jul</th>\n",
       "    </tr>\n",
       "  </thead>\n",
       "  <tbody>\n",
       "    <tr>\n",
       "      <th>1</th>\n",
       "      <td>11.8</td>\n",
       "      <td>25.7</td>\n",
       "    </tr>\n",
       "    <tr>\n",
       "      <th>2</th>\n",
       "      <td>5.0</td>\n",
       "      <td>20.6</td>\n",
       "    </tr>\n",
       "    <tr>\n",
       "      <th>3</th>\n",
       "      <td>1.5</td>\n",
       "      <td>20.2</td>\n",
       "    </tr>\n",
       "  </tbody>\n",
       "</table>\n",
       "</div>"
      ],
      "text/plain": [
       "   Temp_Jan  Temp_Jul\n",
       "1      11.8      25.7\n",
       "2       5.0      20.6\n",
       "3       1.5      20.2"
      ]
     },
     "execution_count": 24,
     "metadata": {},
     "output_type": "execute_result"
    }
   ],
   "source": [
    "df1.loc[1:3,['Temp_Jan','Temp_Jul']]"
   ]
  },
  {
   "cell_type": "markdown",
   "metadata": {
    "collapsed": true
   },
   "source": [
    "Now we turn to **.iloc**. To select the first column:"
   ]
  },
  {
   "cell_type": "code",
   "execution_count": 16,
   "metadata": {},
   "outputs": [
    {
     "data": {
      "text/plain": [
       "0    Amsterdam\n",
       "1    Barcelona\n",
       "2        Paris\n",
       "3       Geneva\n",
       "4       Munich\n",
       "5       Athens\n",
       "6       Vienna\n",
       "Name: Place, dtype: object"
      ]
     },
     "execution_count": 16,
     "metadata": {},
     "output_type": "execute_result"
    }
   ],
   "source": [
    "df1.iloc[:,0]"
   ]
  },
  {
   "cell_type": "markdown",
   "metadata": {},
   "source": [
    "To select multiple rows:"
   ]
  },
  {
   "cell_type": "code",
   "execution_count": 27,
   "metadata": {},
   "outputs": [
    {
     "data": {
      "text/html": [
       "<div>\n",
       "<style>\n",
       "    .dataframe thead tr:only-child th {\n",
       "        text-align: right;\n",
       "    }\n",
       "\n",
       "    .dataframe thead th {\n",
       "        text-align: left;\n",
       "    }\n",
       "\n",
       "    .dataframe tbody tr th {\n",
       "        vertical-align: top;\n",
       "    }\n",
       "</style>\n",
       "<table border=\"1\" class=\"dataframe\">\n",
       "  <thead>\n",
       "    <tr style=\"text-align: right;\">\n",
       "      <th></th>\n",
       "      <th>Place</th>\n",
       "      <th>Temp_Jan</th>\n",
       "      <th>Temp_Jul</th>\n",
       "      <th>Language</th>\n",
       "      <th>Altitude</th>\n",
       "      <th>MeasureDate</th>\n",
       "      <th>Population</th>\n",
       "    </tr>\n",
       "  </thead>\n",
       "  <tbody>\n",
       "    <tr>\n",
       "      <th>0</th>\n",
       "      <td>Amsterdam</td>\n",
       "      <td>3.4</td>\n",
       "      <td>17.6</td>\n",
       "      <td>Dutch</td>\n",
       "      <td>-2.0</td>\n",
       "      <td>NaN</td>\n",
       "      <td>1351587</td>\n",
       "    </tr>\n",
       "    <tr>\n",
       "      <th>1</th>\n",
       "      <td>Barcelona</td>\n",
       "      <td>11.8</td>\n",
       "      <td>25.7</td>\n",
       "      <td>Catalan and Spanish</td>\n",
       "      <td>12.0</td>\n",
       "      <td>NaN</td>\n",
       "      <td>4740000</td>\n",
       "    </tr>\n",
       "  </tbody>\n",
       "</table>\n",
       "</div>"
      ],
      "text/plain": [
       "       Place  Temp_Jan  Temp_Jul             Language  Altitude MeasureDate  \\\n",
       "0  Amsterdam       3.4      17.6                Dutch      -2.0         NaN   \n",
       "1  Barcelona      11.8      25.7  Catalan and Spanish      12.0         NaN   \n",
       "\n",
       "   Population  \n",
       "0     1351587  \n",
       "1     4740000  "
      ]
     },
     "execution_count": 27,
     "metadata": {},
     "output_type": "execute_result"
    }
   ],
   "source": [
    "df1.iloc[0:2,:]"
   ]
  },
  {
   "cell_type": "markdown",
   "metadata": {},
   "source": [
    "To select multiple rows and columns:"
   ]
  },
  {
   "cell_type": "code",
   "execution_count": 28,
   "metadata": {},
   "outputs": [
    {
     "data": {
      "text/html": [
       "<div>\n",
       "<style>\n",
       "    .dataframe thead tr:only-child th {\n",
       "        text-align: right;\n",
       "    }\n",
       "\n",
       "    .dataframe thead th {\n",
       "        text-align: left;\n",
       "    }\n",
       "\n",
       "    .dataframe tbody tr th {\n",
       "        vertical-align: top;\n",
       "    }\n",
       "</style>\n",
       "<table border=\"1\" class=\"dataframe\">\n",
       "  <thead>\n",
       "    <tr style=\"text-align: right;\">\n",
       "      <th></th>\n",
       "      <th>Temp_Jul</th>\n",
       "    </tr>\n",
       "  </thead>\n",
       "  <tbody>\n",
       "    <tr>\n",
       "      <th>0</th>\n",
       "      <td>17.6</td>\n",
       "    </tr>\n",
       "    <tr>\n",
       "      <th>1</th>\n",
       "      <td>25.7</td>\n",
       "    </tr>\n",
       "  </tbody>\n",
       "</table>\n",
       "</div>"
      ],
      "text/plain": [
       "   Temp_Jul\n",
       "0      17.6\n",
       "1      25.7"
      ]
     },
     "execution_count": 28,
     "metadata": {},
     "output_type": "execute_result"
    }
   ],
   "source": [
    "df1.iloc[0:2,2:3]"
   ]
  },
  {
   "cell_type": "markdown",
   "metadata": {},
   "source": [
    "Please note that in the previous example the last number in the chosen range (for example 0:2) was not included.\n",
    "Last, select specific rows and columns and at same time change the ordering:"
   ]
  },
  {
   "cell_type": "code",
   "execution_count": 31,
   "metadata": {},
   "outputs": [
    {
     "data": {
      "text/html": [
       "<div>\n",
       "<style>\n",
       "    .dataframe thead tr:only-child th {\n",
       "        text-align: right;\n",
       "    }\n",
       "\n",
       "    .dataframe thead th {\n",
       "        text-align: left;\n",
       "    }\n",
       "\n",
       "    .dataframe tbody tr th {\n",
       "        vertical-align: top;\n",
       "    }\n",
       "</style>\n",
       "<table border=\"1\" class=\"dataframe\">\n",
       "  <thead>\n",
       "    <tr style=\"text-align: right;\">\n",
       "      <th></th>\n",
       "      <th>Language</th>\n",
       "      <th>Temp_Jul</th>\n",
       "    </tr>\n",
       "  </thead>\n",
       "  <tbody>\n",
       "    <tr>\n",
       "      <th>1</th>\n",
       "      <td>Catalan and Spanish</td>\n",
       "      <td>25.7</td>\n",
       "    </tr>\n",
       "    <tr>\n",
       "      <th>0</th>\n",
       "      <td>Dutch</td>\n",
       "      <td>17.6</td>\n",
       "    </tr>\n",
       "  </tbody>\n",
       "</table>\n",
       "</div>"
      ],
      "text/plain": [
       "              Language  Temp_Jul\n",
       "1  Catalan and Spanish      25.7\n",
       "0                Dutch      17.6"
      ]
     },
     "execution_count": 31,
     "metadata": {},
     "output_type": "execute_result"
    }
   ],
   "source": [
    "df1.iloc[[1,0],[3,2]]"
   ]
  },
  {
   "cell_type": "markdown",
   "metadata": {},
   "source": [
    "[<font color=\"gray\">▲▲▲</font>](#contents)"
   ]
  },
  {
   "cell_type": "markdown",
   "metadata": {},
   "source": [
    "## **<a name=\"q5\">5. Data types</a>**"
   ]
  },
  {
   "cell_type": "markdown",
   "metadata": {},
   "source": [
    "To check the data type of <font color=\"red\">df1</font>."
   ]
  },
  {
   "cell_type": "code",
   "execution_count": null,
   "metadata": {
    "collapsed": true
   },
   "outputs": [],
   "source": [
    "type(df1)"
   ]
  },
  {
   "cell_type": "markdown",
   "metadata": {},
   "source": [
    "Or to check the variable types:"
   ]
  },
  {
   "cell_type": "code",
   "execution_count": null,
   "metadata": {
    "collapsed": true
   },
   "outputs": [],
   "source": [
    "df1.dtypes"
   ]
  },
  {
   "cell_type": "markdown",
   "metadata": {},
   "source": [
    "Convert the variable *Language* into a categorical variable."
   ]
  },
  {
   "cell_type": "code",
   "execution_count": null,
   "metadata": {
    "collapsed": true
   },
   "outputs": [],
   "source": [
    "df1['Language'] = df1['Language'].astype('category')"
   ]
  },
  {
   "cell_type": "markdown",
   "metadata": {},
   "source": [
    "After this we need to verify if we have gotten the right type."
   ]
  },
  {
   "cell_type": "code",
   "execution_count": null,
   "metadata": {
    "collapsed": true
   },
   "outputs": [],
   "source": [
    "df1['Language'].dtypes"
   ]
  },
  {
   "cell_type": "markdown",
   "metadata": {},
   "source": [
    "Now we change the column <font color=\"red\">MeasureDate</font> to a date variable"
   ]
  },
  {
   "cell_type": "code",
   "execution_count": null,
   "metadata": {
    "collapsed": true
   },
   "outputs": [],
   "source": [
    "df1['MeasureDate'].dtypes"
   ]
  },
  {
   "cell_type": "code",
   "execution_count": null,
   "metadata": {
    "collapsed": true
   },
   "outputs": [],
   "source": [
    "df1['MeasureDate']=pd.to_datetime(df1['MeasureDate'])"
   ]
  },
  {
   "cell_type": "code",
   "execution_count": null,
   "metadata": {
    "collapsed": true
   },
   "outputs": [],
   "source": [
    "df1['MeasureDate'].dtypes"
   ]
  },
  {
   "cell_type": "code",
   "execution_count": null,
   "metadata": {
    "collapsed": true
   },
   "outputs": [],
   "source": [
    "df1.dtypes"
   ]
  },
  {
   "cell_type": "markdown",
   "metadata": {},
   "source": [
    "[<font color=\"gray\">▲▲▲</font>](#contents)"
   ]
  },
  {
   "cell_type": "markdown",
   "metadata": {},
   "source": [
    "## **<a name=\"q6\">6. Basic properties</a>**"
   ]
  },
  {
   "cell_type": "markdown",
   "metadata": {},
   "source": [
    "The DataFrame can be dissected in its column- and rownames, and the values inside:"
   ]
  },
  {
   "cell_type": "code",
   "execution_count": null,
   "metadata": {
    "collapsed": true
   },
   "outputs": [],
   "source": [
    "df1.columns"
   ]
  },
  {
   "cell_type": "code",
   "execution_count": null,
   "metadata": {
    "collapsed": true
   },
   "outputs": [],
   "source": [
    "df1.index"
   ]
  },
  {
   "cell_type": "code",
   "execution_count": null,
   "metadata": {
    "collapsed": true
   },
   "outputs": [],
   "source": [
    "df1.values"
   ]
  },
  {
   "cell_type": "markdown",
   "metadata": {},
   "source": [
    "And if we wanted to select the first column name, the following can be done:"
   ]
  },
  {
   "cell_type": "code",
   "execution_count": null,
   "metadata": {
    "collapsed": true
   },
   "outputs": [],
   "source": [
    "df1.columns[0]"
   ]
  },
  {
   "cell_type": "markdown",
   "metadata": {},
   "source": [
    "The size of the DataFrame can be appreciated by the <font color=\"blue\">shape</font> command:"
   ]
  },
  {
   "cell_type": "code",
   "execution_count": null,
   "metadata": {
    "collapsed": true
   },
   "outputs": [],
   "source": [
    "df1.shape"
   ]
  },
  {
   "cell_type": "markdown",
   "metadata": {},
   "source": [
    "And the length of the DataFrame, or in other words, the number of rows, by the <font color=\"blue\">len</font> command:"
   ]
  },
  {
   "cell_type": "code",
   "execution_count": null,
   "metadata": {
    "collapsed": true
   },
   "outputs": [],
   "source": [
    "len(df1)"
   ]
  },
  {
   "cell_type": "markdown",
   "metadata": {},
   "source": [
    "[<font color=\"gray\">▲▲▲</font>](#contents)"
   ]
  },
  {
   "cell_type": "markdown",
   "metadata": {},
   "source": [
    "## **<a name=\"q7\">7. Load another DataFrame</a>**"
   ]
  },
  {
   "cell_type": "markdown",
   "metadata": {},
   "source": [
    "We created a fairly small dataset. Most of the times it is possible to load data from a file.\n",
    "In the following section we will see how to load data using <font color=\"blue\">pd.read_csv</font>.\n",
    "The file is from my [GitHub page](https://github.com/RRighart/City).\n",
    "CSV means that a file containing *comma separated values* is expected.\n",
    "An important remark: When loading a file, one needs to carefully check if the decimals are dots or commas (this can differ between countries and systems).<sup>3</sup>\n"
   ]
  },
  {
   "cell_type": "code",
   "execution_count": null,
   "metadata": {
    "collapsed": true
   },
   "outputs": [],
   "source": [
    "url = 'https://raw.githubusercontent.com/RRighart/City/master/df2.csv'\n",
    "df2 = pd.read_csv(url, parse_dates=True, delimiter=\",\", decimal=\",\")"
   ]
  },
  {
   "cell_type": "markdown",
   "metadata": {},
   "source": [
    "So this should give the following data of cities:"
   ]
  },
  {
   "cell_type": "code",
   "execution_count": null,
   "metadata": {
    "collapsed": true,
    "scrolled": true
   },
   "outputs": [],
   "source": [
    "df2.head(3)"
   ]
  },
  {
   "cell_type": "markdown",
   "metadata": {},
   "source": [
    "The columns *Language* and *MeasureDate* are not the right class. So it would be best to change this directly."
   ]
  },
  {
   "cell_type": "code",
   "execution_count": null,
   "metadata": {
    "collapsed": true
   },
   "outputs": [],
   "source": [
    "df2.dtypes"
   ]
  },
  {
   "cell_type": "markdown",
   "metadata": {},
   "source": [
    "Language should be of type \"category\"."
   ]
  },
  {
   "cell_type": "code",
   "execution_count": null,
   "metadata": {
    "collapsed": true
   },
   "outputs": [],
   "source": [
    "df2['Language'] = df2['Language'].astype('category')"
   ]
  },
  {
   "cell_type": "markdown",
   "metadata": {},
   "source": [
    "MeasureDate should be of type \"datetime\"."
   ]
  },
  {
   "cell_type": "code",
   "execution_count": null,
   "metadata": {
    "collapsed": true
   },
   "outputs": [],
   "source": [
    "df2['MeasureDate']=pd.to_datetime(df2['MeasureDate'])"
   ]
  },
  {
   "cell_type": "code",
   "execution_count": null,
   "metadata": {
    "collapsed": true
   },
   "outputs": [],
   "source": [
    "df2.dtypes"
   ]
  },
  {
   "cell_type": "markdown",
   "metadata": {},
   "source": [
    "For categorical variables, it is essential to know the frequency of each category.\n",
    "Note that a slightly different notation, namely <font color=\"gray\">df2['Language'].value_counts()</font>, works here as well."
   ]
  },
  {
   "cell_type": "code",
   "execution_count": null,
   "metadata": {
    "collapsed": true
   },
   "outputs": [],
   "source": [
    "df2.Language.value_counts()"
   ]
  },
  {
   "cell_type": "markdown",
   "metadata": {},
   "source": [
    "If loading the data did not work, another indirect way is loading the data manually from my GitHub page: https://github.com/RRighart/City . Then check that the data are saved in your current directory.\n",
    "Use the following to check the path:"
   ]
  },
  {
   "cell_type": "code",
   "execution_count": null,
   "metadata": {
    "collapsed": true
   },
   "outputs": [],
   "source": [
    "os.getcwd()"
   ]
  },
  {
   "cell_type": "markdown",
   "metadata": {},
   "source": [
    "Using the command <font color=\"blue\">os.listdir(os.curdir)</font> will produce a list of files that is in your directory. Now it is possible to verify if your copied .csv file is really in the right folder. To change the directory you can use the command <font color=\"blue\">os.chdir('path')</font>."
   ]
  },
  {
   "cell_type": "markdown",
   "metadata": {},
   "source": [
    "[<font color=\"gray\">▲▲▲</font>](#contents)"
   ]
  },
  {
   "cell_type": "markdown",
   "metadata": {},
   "source": [
    "## **<a name=\"q8\">8. Append two DataFrames</a>**"
   ]
  },
  {
   "cell_type": "markdown",
   "metadata": {},
   "source": [
    "It is often the case that data are acquired from disparate sources, like we have here.\n",
    "So now the trick is to bind the two sets together."
   ]
  },
  {
   "cell_type": "code",
   "execution_count": null,
   "metadata": {
    "collapsed": true
   },
   "outputs": [],
   "source": [
    "df = df1.append(df2, ignore_index=True)"
   ]
  },
  {
   "cell_type": "markdown",
   "metadata": {},
   "source": [
    "Displaying the whole DataFrame <font color=\"red\">df</font> now we can see that there are 23 rows."
   ]
  },
  {
   "cell_type": "code",
   "execution_count": null,
   "metadata": {
    "collapsed": true
   },
   "outputs": [],
   "source": [
    "df"
   ]
  },
  {
   "cell_type": "markdown",
   "metadata": {},
   "source": [
    "Another way this can be done is by the <font color=\"blue\">pd.concat</font> function<sup>4</sup>:"
   ]
  },
  {
   "cell_type": "code",
   "execution_count": null,
   "metadata": {
    "collapsed": true
   },
   "outputs": [],
   "source": [
    "pd.concat([df1, df2], ignore_index=True).head(4)"
   ]
  },
  {
   "cell_type": "markdown",
   "metadata": {},
   "source": [
    "[<font color=\"gray\">▲▲▲</font>](#contents)"
   ]
  },
  {
   "cell_type": "markdown",
   "metadata": {},
   "source": [
    "## **<a name=\"q9\">9. Missing values</a>**"
   ]
  },
  {
   "cell_type": "markdown",
   "metadata": {},
   "source": [
    "One of the first data inspections is if and where there are missing values (data that are not available for various reasons). As we can see, there are missing values in the data; missing values are labeled differently in Python for numeric data (NaN) and dates (NaT)<sup>5</sup>. First let's see how to detect where missing values occur."
   ]
  },
  {
   "cell_type": "markdown",
   "metadata": {},
   "source": [
    "The following command will indicate those cells with \"True\" where there is a missing value."
   ]
  },
  {
   "cell_type": "code",
   "execution_count": null,
   "metadata": {
    "collapsed": true
   },
   "outputs": [],
   "source": [
    "pd.isnull(df).head(3)"
   ]
  },
  {
   "cell_type": "markdown",
   "metadata": {},
   "source": [
    "The cells that mention \"True\" are missing values. They only occur for *Altitude* and *MeasureDate*.\n",
    "It is also possible to inspect specific variables, just to avoid the output of the whole datasheet. "
   ]
  },
  {
   "cell_type": "code",
   "execution_count": null,
   "metadata": {
    "collapsed": true
   },
   "outputs": [],
   "source": [
    "pd.isnull(df['Altitude']).head(5)"
   ]
  },
  {
   "cell_type": "markdown",
   "metadata": {},
   "source": [
    "There is a simple way to check the *number* of missing values per variable, using the <font color=\"blue\">is.null</font> function."
   ]
  },
  {
   "cell_type": "code",
   "execution_count": null,
   "metadata": {
    "collapsed": true
   },
   "outputs": [],
   "source": [
    "df.isnull().sum()"
   ]
  },
  {
   "cell_type": "markdown",
   "metadata": {},
   "source": [
    "The inverse is also possible, that is counting the number of nonmissing values."
   ]
  },
  {
   "cell_type": "code",
   "execution_count": null,
   "metadata": {
    "collapsed": true
   },
   "outputs": [],
   "source": [
    "df.count()"
   ]
  },
  {
   "cell_type": "markdown",
   "metadata": {},
   "source": [
    "Statistics could be computed while ignoring the missing values. Another possibility is to drop the row(s) that contains *any* missing value, using <font color=\"gray\">df.dropna(how='any')</font>. If you put <font color=\"gray\">how='all'</font> it will only drop the row(s) if all values are missing. Note that only writing it to <font color=\"red\">df</font> will change the DataFrame. So if <font color=\"gray\">df = df.dropna(how='any')</font> were used, the DataFrame <font color=\"red\">df</font> would have changed."
   ]
  },
  {
   "cell_type": "code",
   "execution_count": null,
   "metadata": {
    "collapsed": true
   },
   "outputs": [],
   "source": [
    "df.dropna(how='any')"
   ]
  },
  {
   "cell_type": "markdown",
   "metadata": {},
   "source": [
    "Missing values are automatically omitted from summary statistics, such as <font color=\"blue\">describe()</font>."
   ]
  },
  {
   "cell_type": "code",
   "execution_count": null,
   "metadata": {
    "collapsed": true
   },
   "outputs": [],
   "source": [
    "df['Altitude'].describe()"
   ]
  },
  {
   "cell_type": "markdown",
   "metadata": {},
   "source": [
    "It is possible to replace values with NaNs that fulfill a certain condition, for example if *Altitude* is larger than 500 m. It is adviced to refrain from using chain indices, such as <font color=\"gray\">df['Altitude'][df['Altitude']>350]=np.nan</font><sup>6</sup>"
   ]
  },
  {
   "cell_type": "code",
   "execution_count": null,
   "metadata": {
    "collapsed": true
   },
   "outputs": [],
   "source": [
    "df.loc[df['Altitude']>350, 'Altitude'] = np.nan "
   ]
  },
  {
   "cell_type": "code",
   "execution_count": null,
   "metadata": {
    "collapsed": true
   },
   "outputs": [],
   "source": [
    "df['Altitude']"
   ]
  },
  {
   "cell_type": "markdown",
   "metadata": {},
   "source": [
    "[<font color=\"gray\">▲▲▲</font>](#contents)"
   ]
  },
  {
   "cell_type": "markdown",
   "metadata": {},
   "source": [
    "## **<a name=\"q10\">10. Sorting the DataFrame</a>**"
   ]
  },
  {
   "cell_type": "markdown",
   "metadata": {},
   "source": [
    "The columns of a DataFrame can be alphabetically sorted on the column name. For this we use <font color=\"blue\">sort_index</font> with <font color=\"blue\">axis=1</font>, and <font color=\"blue\">ascending=True</font>."
   ]
  },
  {
   "cell_type": "code",
   "execution_count": null,
   "metadata": {
    "collapsed": true
   },
   "outputs": [],
   "source": [
    "df.sort_index(axis=1, ascending=True).head(3)"
   ]
  },
  {
   "cell_type": "markdown",
   "metadata": {},
   "source": [
    "It is also possible to sort the rows based on a certain column, using <font color=\"blue\">sort_values</font>. If the column is a string, it is sorted alphabetically. If the column is numeric, it is ranked according to value. For example, in the following the DataFrame is sorted alphabetically on *Place*, and the result is written to <font color=\"red\">df</font>."
   ]
  },
  {
   "cell_type": "code",
   "execution_count": null,
   "metadata": {
    "collapsed": true
   },
   "outputs": [],
   "source": [
    "df = df.sort_values(by='Place')"
   ]
  },
  {
   "cell_type": "markdown",
   "metadata": {},
   "source": [
    "Displaying the first five rows we can confirm that the sorting worked."
   ]
  },
  {
   "cell_type": "code",
   "execution_count": null,
   "metadata": {
    "collapsed": true
   },
   "outputs": [],
   "source": [
    "df.head(5)"
   ]
  },
  {
   "cell_type": "markdown",
   "metadata": {},
   "source": [
    "[<font color=\"gray\">▲▲▲</font>](#contents)"
   ]
  },
  {
   "cell_type": "markdown",
   "metadata": {},
   "source": [
    "## **<a name=\"q11\">11. Data selection by position</a>**"
   ]
  },
  {
   "cell_type": "markdown",
   "metadata": {},
   "source": [
    "It is sometimes important to inspect specific cells. For example, if you need to look up the data that is in the first row, first column, you could do the following:"
   ]
  },
  {
   "cell_type": "code",
   "execution_count": null,
   "metadata": {
    "collapsed": true
   },
   "outputs": [],
   "source": [
    "df.iloc[0,0]"
   ]
  },
  {
   "cell_type": "markdown",
   "metadata": {},
   "source": [
    "If you want to have multiple rows and columns, the following can be done:"
   ]
  },
  {
   "cell_type": "code",
   "execution_count": null,
   "metadata": {
    "collapsed": true
   },
   "outputs": [],
   "source": [
    "df.iloc[:3,:2]"
   ]
  },
  {
   "cell_type": "markdown",
   "metadata": {},
   "source": [
    "Select rows within a given range, for example first till fourth column, and second till third row."
   ]
  },
  {
   "cell_type": "code",
   "execution_count": null,
   "metadata": {
    "collapsed": true
   },
   "outputs": [],
   "source": [
    "df.iloc[1:3,0:4]"
   ]
  },
  {
   "cell_type": "markdown",
   "metadata": {},
   "source": [
    "For selecting certain columns, but switching the position of the second and third"
   ]
  },
  {
   "cell_type": "code",
   "execution_count": null,
   "metadata": {
    "collapsed": true
   },
   "outputs": [],
   "source": [
    "df.iloc[:,[1,3,2]].head(5)"
   ]
  },
  {
   "cell_type": "markdown",
   "metadata": {},
   "source": [
    "[<font color=\"gray\">▲▲▲</font>](#contents)"
   ]
  },
  {
   "cell_type": "markdown",
   "metadata": {},
   "source": [
    "## **<a name=\"q12\">12. Conditional data selection</a>**"
   ]
  },
  {
   "cell_type": "markdown",
   "metadata": {},
   "source": [
    "There are circumstances in which you'd only want to select cases that fulfill a certain condition.\n",
    "The following only selects data if the average temperature in January is higher than 9 degrees Celsius:"
   ]
  },
  {
   "cell_type": "code",
   "execution_count": null,
   "metadata": {
    "collapsed": true
   },
   "outputs": [],
   "source": [
    "df[df.Temp_Jan > 9]"
   ]
  },
  {
   "cell_type": "markdown",
   "metadata": {},
   "source": [
    "Select cases where the average July temperature was equal to 28.5."
   ]
  },
  {
   "cell_type": "code",
   "execution_count": null,
   "metadata": {
    "collapsed": true
   },
   "outputs": [],
   "source": [
    "df[df.Temp_Jul == 28.5]"
   ]
  },
  {
   "cell_type": "markdown",
   "metadata": {},
   "source": [
    "Select cases if July temperature was unequal to 28.5."
   ]
  },
  {
   "cell_type": "code",
   "execution_count": null,
   "metadata": {
    "collapsed": true
   },
   "outputs": [],
   "source": [
    "df[df.Temp_Jul != 28.5].head(3)"
   ]
  },
  {
   "cell_type": "markdown",
   "metadata": {},
   "source": [
    "It is also possible to select data that fulfill *multiple* conditions, for example cities where the January temperature is larger than 5 *and* the July temperature is smaller than 17 degrees Celsius."
   ]
  },
  {
   "cell_type": "code",
   "execution_count": null,
   "metadata": {
    "collapsed": true
   },
   "outputs": [],
   "source": [
    "df[(df.Temp_Jan > 5) & (df.Temp_Jul < 17)]"
   ]
  },
  {
   "cell_type": "markdown",
   "metadata": {},
   "source": [
    "The following selects the data if *either* January temperature is larger than 5 *or* July temperature is smaller than 17. Note that Cork is not selected in this case, since it fulfills both conditions."
   ]
  },
  {
   "cell_type": "code",
   "execution_count": null,
   "metadata": {
    "collapsed": true
   },
   "outputs": [],
   "source": [
    "df[(df.Temp_Jan > 5) ^ (df.Temp_Jul < 17)]"
   ]
  },
  {
   "cell_type": "markdown",
   "metadata": {},
   "source": [
    "The following includes the Cork case. It select the data if January temperature is larger than 5 *and/or* July temperature is smaller than 17. That, means it also includes those cases that fulfill both cases."
   ]
  },
  {
   "cell_type": "code",
   "execution_count": null,
   "metadata": {
    "collapsed": true
   },
   "outputs": [],
   "source": [
    "df[(df.Temp_Jan > 5) | (df.Temp_Jul < 17)]"
   ]
  },
  {
   "cell_type": "markdown",
   "metadata": {},
   "source": [
    "[<font color=\"gray\">▲▲▲</font>](#contents)"
   ]
  },
  {
   "cell_type": "markdown",
   "metadata": {},
   "source": [
    "## **<a name=\"q13\">13. Selection based on string</a>**"
   ]
  },
  {
   "cell_type": "markdown",
   "metadata": {},
   "source": [
    "Imagine that you have a very large dataset, and you wanted to check data for the city Paris.\n",
    "Of course by alphabetically arranging the data (as we have done) it is not that difficult to find back the data. But in some cases you would need a search function. \n",
    "To select a row based on a value in a *categorical* variable. So if we want to find back the \"Paris\" data, do the following:"
   ]
  },
  {
   "cell_type": "code",
   "execution_count": null,
   "metadata": {
    "collapsed": true
   },
   "outputs": [],
   "source": [
    "df[df['Place'].str.contains('Paris')]"
   ]
  },
  {
   "cell_type": "markdown",
   "metadata": {},
   "source": [
    "And it also work if you are only using part of a string, for example \"Stock\""
   ]
  },
  {
   "cell_type": "code",
   "execution_count": null,
   "metadata": {
    "collapsed": true,
    "scrolled": true
   },
   "outputs": [],
   "source": [
    "df[df['Place'].str.contains('Stock')]"
   ]
  },
  {
   "cell_type": "markdown",
   "metadata": {},
   "source": [
    "Another example, searching for \"Spanish\" gives the following hits:"
   ]
  },
  {
   "cell_type": "code",
   "execution_count": null,
   "metadata": {
    "collapsed": true
   },
   "outputs": [],
   "source": [
    "df[df['Language'].str.contains('Spanish')]"
   ]
  },
  {
   "cell_type": "markdown",
   "metadata": {},
   "source": [
    "[<font color=\"gray\">▲▲▲</font>](#contents)"
   ]
  },
  {
   "cell_type": "markdown",
   "metadata": {},
   "source": [
    "## **<a name=\"q14\">14. Adding single rows</a>**"
   ]
  },
  {
   "cell_type": "markdown",
   "metadata": {},
   "source": [
    "Data can be added manually as well. Adding a row can be done in at least two ways:"
   ]
  },
  {
   "cell_type": "markdown",
   "metadata": {},
   "source": [
    "First, we use <font color=\"blue\">df.loc</font> to add a row at the right index, using <font color=\"blue\">len(df)+1</font>, which takes the lenght of the DataFrame plus one. So this always places the new row at the end."
   ]
  },
  {
   "cell_type": "code",
   "execution_count": null,
   "metadata": {
    "collapsed": true
   },
   "outputs": [],
   "source": [
    "df.loc[len(df)+1,:]=['Rome', 7.5, 24.1, 'Italian', 21, np.nan, 4353775]"
   ]
  },
  {
   "cell_type": "markdown",
   "metadata": {},
   "source": [
    "As we will see the new entry \"Rome\" is added in the last row."
   ]
  },
  {
   "cell_type": "code",
   "execution_count": null,
   "metadata": {
    "collapsed": true
   },
   "outputs": [],
   "source": [
    "df.tail(3)"
   ]
  },
  {
   "cell_type": "markdown",
   "metadata": {},
   "source": [
    "A second way to do this is by using <font color=\"blue\">append</font>. We first make <font color=\"red\">newrow</font>:"
   ]
  },
  {
   "cell_type": "code",
   "execution_count": null,
   "metadata": {
    "collapsed": true
   },
   "outputs": [],
   "source": [
    "newrow = pd.Series(['Madrid', 6.3, 25.6, 'Spanish', 667, np.nan, 6240000], index= ['Place', 'Temp_Jan', 'Temp_Jul', 'Language', 'Altitude', 'MeasureDate', 'Population'])"
   ]
  },
  {
   "cell_type": "code",
   "execution_count": null,
   "metadata": {
    "collapsed": true
   },
   "outputs": [],
   "source": [
    "type(newrow)"
   ]
  },
  {
   "cell_type": "code",
   "execution_count": null,
   "metadata": {
    "collapsed": true
   },
   "outputs": [],
   "source": [
    "newrow"
   ]
  },
  {
   "cell_type": "markdown",
   "metadata": {},
   "source": [
    "If we have created the row, we use <font color=\"blue\">append</font>. "
   ]
  },
  {
   "cell_type": "code",
   "execution_count": null,
   "metadata": {
    "collapsed": true
   },
   "outputs": [],
   "source": [
    "df = df.append(newrow, ignore_index=True)"
   ]
  },
  {
   "cell_type": "code",
   "execution_count": null,
   "metadata": {
    "collapsed": true
   },
   "outputs": [],
   "source": [
    "df.tail(3)"
   ]
  },
  {
   "cell_type": "markdown",
   "metadata": {},
   "source": [
    "[<font color=\"gray\">▲▲▲</font>](#contents)"
   ]
  },
  {
   "cell_type": "markdown",
   "metadata": {},
   "source": [
    "## **<a name=\"q15\">15. Exploratory analyses using boxplots</a>**"
   ]
  },
  {
   "cell_type": "markdown",
   "metadata": {},
   "source": [
    "To have a summary of a variable, use the <font color=\"blue\">describe()</font> command. Note that median is the *50%* indicator.\n",
    "It is also possible to use for ex. <font color=\"blue\">min()</font>, <font color=\"blue\">mean()</font>, <font color=\"blue\">median()</font> and other stats separately. From these statistics it is directly clear that in July temperature is higher than January (not unexpected for European countries)."
   ]
  },
  {
   "cell_type": "code",
   "execution_count": null,
   "metadata": {
    "collapsed": true
   },
   "outputs": [],
   "source": [
    "df['Temp_Jan'].describe()"
   ]
  },
  {
   "cell_type": "code",
   "execution_count": null,
   "metadata": {
    "collapsed": true
   },
   "outputs": [],
   "source": [
    "df['Temp_Jul'].describe()"
   ]
  },
  {
   "cell_type": "markdown",
   "metadata": {},
   "source": [
    "We are going to create boxplots using Matplotlib. Before running any code, we make sure that the plot layout is reset to the origin. As you will see later, we are going to use Seaborn, and this may change the layout of other plots<sup>7</sup>"
   ]
  },
  {
   "cell_type": "code",
   "execution_count": null,
   "metadata": {
    "collapsed": true
   },
   "outputs": [],
   "source": [
    "sns.reset_orig()"
   ]
  },
  {
   "cell_type": "markdown",
   "metadata": {},
   "source": [
    "Boxplots can be used to check for outliers and distribution of the variables.\n",
    "To position the two boxplots, <font color=\"blue\">fig.add_subplot(a,b,c)</font> is used, where *a* is number of rows, *b* is the number of columns, and *c* is the position that increments rowwise. "
   ]
  },
  {
   "cell_type": "code",
   "execution_count": null,
   "metadata": {
    "collapsed": true
   },
   "outputs": [],
   "source": [
    "fig = plt.figure()\n",
    "\n",
    "fig.add_subplot(1,2,1)\n",
    "df[['Temp_Jan']].boxplot(sym='.')\n",
    "fig.add_subplot(1,2,2)\n",
    "df[['Temp_Jul']].boxplot(sym='.')\n",
    "plt.show()"
   ]
  },
  {
   "cell_type": "markdown",
   "metadata": {},
   "source": [
    "Not bad these plots. Matplotlib gives a quick insight on data distribution and possible outliers. But the range of the axes are different for the two plots, and unnecessary space is wasted for two y-axes. So the question arises if we could change this."
   ]
  },
  {
   "cell_type": "markdown",
   "metadata": {},
   "source": [
    "First, we are going to select the two columns and make a new temporary DataFrame called <font color=\"red\">temp</font>."
   ]
  },
  {
   "cell_type": "code",
   "execution_count": null,
   "metadata": {
    "collapsed": true
   },
   "outputs": [],
   "source": [
    "temp = df.iloc[:,[1,2]]"
   ]
  },
  {
   "cell_type": "markdown",
   "metadata": {},
   "source": [
    "Second, we'd like to adapt our columnnames slightly, and the following code does that:"
   ]
  },
  {
   "cell_type": "code",
   "execution_count": null,
   "metadata": {
    "collapsed": true
   },
   "outputs": [],
   "source": [
    "temp.columns = ['January','July']"
   ]
  },
  {
   "cell_type": "markdown",
   "metadata": {},
   "source": [
    "The following code puts the two boxplots in one figure. We could add a line <font color=\"blue\">plt.ylim</font> to adjust the range of the y-axis."
   ]
  },
  {
   "cell_type": "code",
   "execution_count": null,
   "metadata": {
    "collapsed": true
   },
   "outputs": [],
   "source": [
    "temp.boxplot(sym='.')\n",
    "plt.ylim(-10, 30)\n",
    "plt.show()"
   ]
  },
  {
   "cell_type": "markdown",
   "metadata": {},
   "source": [
    "In the following another boxplot is produced, now for the variable Altitude. Note that some of the parameter settings are changed, such as <font color=\"blue\">sym='bo'</font>, which means that blue filled dots are used for the outliers; <font color=\"blue\">vert=0</font> means that a horizontal boxplot is used; <font color=\"blue\">width</font> adapts the width of the box; <font color=\"blue\">patch_artist=True</font> fills the box with a color.\n",
    "Making a boxplot for Altitude shows there are some outliers. In certain contexts outliers can be data errors, because of for example human errors entering data, machine failure etc. The present example of Altitudes shows that not all outliers are data errors."
   ]
  },
  {
   "cell_type": "code",
   "execution_count": null,
   "metadata": {
    "collapsed": true,
    "scrolled": true
   },
   "outputs": [],
   "source": [
    "fig = plt.figure()\n",
    "df[['Altitude']].boxplot(sym='bo', widths = 0.4, patch_artist = True, vert=0)\n",
    "flierprops = dict(markersize=9)\n",
    "plt.show()"
   ]
  },
  {
   "cell_type": "markdown",
   "metadata": {},
   "source": [
    "[<font color=\"gray\">▲▲▲</font>](#contents)"
   ]
  },
  {
   "cell_type": "markdown",
   "metadata": {},
   "source": [
    "## **<a name=\"q16\">16. Barplots </a>**"
   ]
  },
  {
   "cell_type": "markdown",
   "metadata": {},
   "source": [
    "Using horizontal bars one can get a quick impression of the temperatures and the differences and variation across cities, as well as the differences between winter- (January = dark blue) and summertime (July = light blue). This has been done in the code below.\n",
    "<font color=\"gray\">Df.sort_values(by='Temp_Jan', ascending=False)</font> is used to order the bars.\n",
    "In <font color=\"blue\">plt.legend()</font> it is possible to change parameters that determine the location of the legend, such as <font color=\"blue\">bbox_to_anchor</font>. The parameter <font color=\"blue\"> mode=expand</font> makes that the legend box takes similar width as the plot<sup>8</sup>.\n",
    "The data are ordered on January temperature, starting with the city with the lowest temperatures, which is Lulea, situated in the very north of Sweden."
   ]
  },
  {
   "cell_type": "code",
   "execution_count": null,
   "metadata": {
    "collapsed": true
   },
   "outputs": [],
   "source": [
    "plt.figure(figsize = (7, 10))\n",
    "barwd = 0.2\n",
    "r1=range(len(df))\n",
    "r2=[y+ barwd for y in r1]\n",
    "plt.barh(r1, df.sort_values(by='Temp_Jan', ascending=False).Temp_Jan, height = barwd, color = 'blue')\n",
    "plt.barh(r2, df.sort_values(by='Temp_Jan', ascending=False).Temp_Jul, height = barwd, color = 'lightblue')\n",
    "plt.yticks([s + barwd for s in range(len(df))], df.sort_values(by='Temp_Jan', ascending=False).Place,\n",
    "  rotation = 0)\n",
    "lightblue_patch = mpatches.Patch(color='lightblue', label='July temperatures')\n",
    "blue_patch = mpatches.Patch(color='blue', label='January temperatures')\n",
    "plt.legend(handles=[lightblue_patch, blue_patch], bbox_to_anchor=(0., 1.02, 1., .102), loc=3, mode=\"expand\", borderaxespad=0)\n",
    "plt.show()"
   ]
  },
  {
   "cell_type": "markdown",
   "metadata": {},
   "source": [
    "[<font color=\"gray\">▲▲▲</font>](#contents)"
   ]
  },
  {
   "cell_type": "markdown",
   "metadata": {},
   "source": [
    "## **<a name=\"q17\">17. Pie Charts</a>**"
   ]
  },
  {
   "cell_type": "markdown",
   "metadata": {},
   "source": [
    "To appreciate the different population sizes, we can benefit from a pie chart.\n",
    "As can be directly seen, the pie becomes dense because of the quantity of data, and a smart use of colors is desired<sup>9</sup>. The parameter <font color=\"blue\">cs</font> is used for color scaling.\n",
    "The resulting chart shows that Istanbul and Paris are clearly among the largest cities that are in our dataset."
   ]
  },
  {
   "cell_type": "code",
   "execution_count": null,
   "metadata": {
    "collapsed": true
   },
   "outputs": [],
   "source": [
    "cs = cm.Set1(np.arange(40)/40.)\n",
    "mpl.rcParams['font.size'] = 6.0\n",
    "plt.figure(figsize = (10, 10))\n",
    "x = df.Population\n",
    "plt.pie(x, labels = df.Place, labeldistance = 1.2, colors = cs)\n",
    "plt.show()"
   ]
  },
  {
   "cell_type": "markdown",
   "metadata": {},
   "source": [
    "To deal partly with the density, it it possible to print the labels in a legend outside the pie.\n",
    "Just pass the argument <font color=\"blue\">labels=df.Place</font> directly to <font color=\"blue\">pyplot.legend()</font>. Use the <font color=\"blue\">bbox_to_anchor()</font> argument to place the legend just outside the figure."
   ]
  },
  {
   "cell_type": "code",
   "execution_count": null,
   "metadata": {
    "collapsed": true
   },
   "outputs": [],
   "source": [
    "mpl.rcParams['font.size'] = 6.0\n",
    "plt.figure(figsize = (10, 10))\n",
    "x = df.Population\n",
    "plt.pie(x, colors = cs)\n",
    "plt.legend(labels = df.Place, bbox_to_anchor=(1.1, 1.05))\n",
    "plt.show()"
   ]
  },
  {
   "cell_type": "markdown",
   "metadata": {},
   "source": [
    "A different kind of pie chart can be produced using plotly.\n",
    "If you want to try this yourself, you need to first create an account<sup>10</sup>.\n",
    "You will then need to fill-in your *username* and *API* when you run Plotly code:"
   ]
  },
  {
   "cell_type": "code",
   "execution_count": null,
   "metadata": {
    "collapsed": true
   },
   "outputs": [],
   "source": [
    "plotly.tools.set_credentials_file(username='rrighart', api_key='999999999')"
   ]
  },
  {
   "cell_type": "markdown",
   "metadata": {},
   "source": [
    "The pie-chart only needs a few lines of codes and produces a quite interactive chart. Hovering  over the pie will show the corresponding label and data."
   ]
  },
  {
   "cell_type": "code",
   "execution_count": null,
   "metadata": {
    "collapsed": true
   },
   "outputs": [],
   "source": [
    "fig = {\n",
    "    'data': [{'labels': df.Place,\n",
    "              'values': df.Population,\n",
    "              'type': 'pie'}],\n",
    "    'layout': {'title': 'City populations as percentage of the total'}\n",
    "     }\n",
    "\n",
    "py.iplot(fig)"
   ]
  },
  {
   "cell_type": "markdown",
   "metadata": {},
   "source": [
    "[<font color=\"gray\">▲▲▲</font>](#contents)"
   ]
  },
  {
   "cell_type": "markdown",
   "metadata": {},
   "source": [
    "## **<a name=\"q18\">18. Scatterplots</a>**"
   ]
  },
  {
   "cell_type": "markdown",
   "metadata": {
    "collapsed": true
   },
   "source": [
    "Scatterplots can be used for exploring relations between data. It shows that there is a roughly linear relation between the winter- and summer temperature. The parameter <font color=\"blue\">s</font> can be adapted to change the marker size."
   ]
  },
  {
   "cell_type": "code",
   "execution_count": null,
   "metadata": {
    "collapsed": true
   },
   "outputs": [],
   "source": [
    "sns.reset_orig()\n",
    "mpl.rcParams['font.size'] = 10.0\n",
    "plt.figure(figsize = (8, 8))\n",
    "plt.scatter(df.Temp_Jan, df.Temp_Jul, c = 'yellow', s=50)\n",
    "plt.title('Relation between winter- and summertemperature')\n",
    "plt.xlabel('Temperature in January')\n",
    "plt.ylabel('Temperature in July')\n",
    "plt.show()"
   ]
  },
  {
   "cell_type": "markdown",
   "metadata": {},
   "source": [
    "We could display a third variable in this scatterplot. For example, it may be informative to make the dot diameters proportional to the population size. To do this, we could incorporate the variable <font color=\"red\">df.Population</font> into the scatterplot. Using the parameters <font color=\"blue\">facecolors</font> and <font color=\"blue\">edgecolors</font>, empty circles are used in order to display any overlapping data.\n",
    "\n",
    "In these data, there seems a slight tendency that the relatively smaller places are in lower temperature areas. For the present purpose, the data were not very well sampled and therefore may be biased. Most important here is to see how such a visualization gives insight in three dimensions at once."
   ]
  },
  {
   "cell_type": "code",
   "execution_count": null,
   "metadata": {
    "collapsed": true
   },
   "outputs": [],
   "source": [
    "popsize = df.Population/5000\n",
    "\n",
    "mpl.rcParams['font.size'] = 10.0\n",
    "plt.figure(figsize = (8, 8))\n",
    "plt.scatter(df.Temp_Jan, df.Temp_Jul, facecolors='none', edgecolors='red', linewidth=1.2, s=popsize)\n",
    "plt.title('Relation between winter- and summertemperature')\n",
    "plt.xlabel('Temperature in January')\n",
    "plt.ylabel('Temperature in July')\n",
    "\n",
    "for label, x, y in zip(df.Place, df.Temp_Jan, df.Temp_Jul):\n",
    "    plt.annotate(\n",
    "        label,\n",
    "        xy=(x,y), xytext=(-10,10), textcoords='offset points', ha='center', va='bottom',  \n",
    "    )\n",
    "plt.show()"
   ]
  },
  {
   "cell_type": "markdown",
   "metadata": {},
   "source": [
    "[<font color=\"gray\">▲▲▲</font>](#contents)"
   ]
  },
  {
   "cell_type": "markdown",
   "metadata": {},
   "source": [
    "## **<a name=\"q19\">19. Replacing values</a>**"
   ]
  },
  {
   "cell_type": "markdown",
   "metadata": {},
   "source": [
    "One of the most common data transformations is replacing values. The reason can be data entry errors, language differences (e.g., different labels are used for \"Geneva\", \"Genève\", \"Genf\" or \"Ginebra\"), or different conventions in other contexts. Values can be replaced by the following:"
   ]
  },
  {
   "cell_type": "code",
   "execution_count": null,
   "metadata": {
    "collapsed": true
   },
   "outputs": [],
   "source": [
    "df=df.replace(['Catalan and Spanish'], ['Catalan / Spanish'])"
   ]
  },
  {
   "cell_type": "code",
   "execution_count": null,
   "metadata": {
    "collapsed": true
   },
   "outputs": [],
   "source": [
    "df[df['Language'].str.contains('Cat')]"
   ]
  },
  {
   "cell_type": "markdown",
   "metadata": {},
   "source": [
    "The same is valid for numbers. \n",
    "To replace a value at a certain index use <font color=\"blue\">df.iloc</font>. Take care that indexing in Python starts at 0, so that means that the first row/column is at 0, the second row/column at 1, etc. For example, <font color=\"gray\">df.iloc[1,2]=17</font> would replace the value at the second row, third column with the value 17."
   ]
  },
  {
   "cell_type": "markdown",
   "metadata": {},
   "source": [
    "[<font color=\"gray\">▲▲▲</font>](#contents)"
   ]
  },
  {
   "cell_type": "markdown",
   "metadata": {},
   "source": [
    "## **<a name=\"q20\">20. Data categorization</a>**"
   ]
  },
  {
   "cell_type": "markdown",
   "metadata": {},
   "source": [
    "Another data transformation concerns making categories from numeric/integer values. Let us do that for example for temperature. The code underneath will categorize data in bins from -10 to -5, -5 to 0 etc. (which means that -5 would be in -10 to -5, -4.9 would be in category -5 to 0). In addition, we create some labels to reflect these categories. Of course, the labels are quite subjective. I met people in Sweden who find -5 Celsius comfortable, while this may be different for people from France."
   ]
  },
  {
   "cell_type": "code",
   "execution_count": null,
   "metadata": {
    "collapsed": true
   },
   "outputs": [],
   "source": [
    "tempbins = [-10, -5, 0, 5, 10, 15, 20, 25, 30]\n",
    "templabels = ['Very low', 'Low', 'Reasonaby Low', 'Average', 'Reasonably High', 'High', 'Very High', 'Extremely High']"
   ]
  },
  {
   "cell_type": "markdown",
   "metadata": {},
   "source": [
    "The following will create the categorized variables:"
   ]
  },
  {
   "cell_type": "code",
   "execution_count": null,
   "metadata": {
    "collapsed": true
   },
   "outputs": [],
   "source": [
    "df['Temp_Jan_cat'] = pd.cut(df['Temp_Jan'], tempbins, labels = templabels)\n",
    "df['Temp_Jul_cat'] = pd.cut(df['Temp_Jul'], tempbins, labels = templabels)"
   ]
  },
  {
   "cell_type": "code",
   "execution_count": null,
   "metadata": {
    "collapsed": true
   },
   "outputs": [],
   "source": [
    "df.head(5)"
   ]
  },
  {
   "cell_type": "markdown",
   "metadata": {},
   "source": [
    "We can then count the number of observations for each category:"
   ]
  },
  {
   "cell_type": "code",
   "execution_count": null,
   "metadata": {
    "collapsed": true
   },
   "outputs": [],
   "source": [
    "pd.value_counts(df['Temp_Jan_cat'])"
   ]
  },
  {
   "cell_type": "code",
   "execution_count": null,
   "metadata": {
    "collapsed": true
   },
   "outputs": [],
   "source": [
    "pd.value_counts(df['Temp_Jul_cat'])"
   ]
  },
  {
   "cell_type": "markdown",
   "metadata": {},
   "source": [
    "As we see the <font color=\"blue\">pd.cut</font> function created a categorical variable."
   ]
  },
  {
   "cell_type": "code",
   "execution_count": null,
   "metadata": {
    "collapsed": true
   },
   "outputs": [],
   "source": [
    "df.dtypes"
   ]
  },
  {
   "cell_type": "markdown",
   "metadata": {},
   "source": [
    "The categorized data can be displayed by a histogram. Quite insightful is using overlapping histograms. The setting of <font color=\"blue\">alpha = 0.5</font> means that the bars are transparant in case there is an overlap between categories; however in this case there is no overlap (in other words, all temperatures in July are different from those in January). The bins were set before by tempbins."
   ]
  },
  {
   "cell_type": "code",
   "execution_count": null,
   "metadata": {
    "collapsed": true
   },
   "outputs": [],
   "source": [
    "plt.hist(df['Temp_Jan'], alpha= 0.5, bins = tempbins, label='Temperature January')\n",
    "plt.hist(df['Temp_Jul'], alpha= 0.5, bins = tempbins, label='Temperature July')\n",
    "plt.ylim(0, 14)\n",
    "plt.legend(bbox_to_anchor=(0., 1.02, 1., .102), loc=3, mode=\"expand\", borderaxespad=0)\n",
    "plt.show()"
   ]
  },
  {
   "cell_type": "markdown",
   "metadata": {},
   "source": [
    "We may want to compute data as function of the categories. For example, given the temperature categories, is there a different mean precipitation? In Pandas there is a <font color=\"blue\">groupby</font> function that can do this<sup>11</sup>. First let us see the categories:"
   ]
  },
  {
   "cell_type": "code",
   "execution_count": null,
   "metadata": {
    "collapsed": true
   },
   "outputs": [],
   "source": [
    "df.groupby(['Temp_Jan_cat']).groups.keys()"
   ]
  },
  {
   "cell_type": "markdown",
   "metadata": {},
   "source": [
    "We can then inspect the first entry of every category:"
   ]
  },
  {
   "cell_type": "code",
   "execution_count": null,
   "metadata": {
    "collapsed": true
   },
   "outputs": [],
   "source": [
    "df.groupby(['Temp_Jan_cat']).first()"
   ]
  },
  {
   "cell_type": "markdown",
   "metadata": {},
   "source": [
    "And now let's compute mean temperature in July as a function of the binned temperature in January:"
   ]
  },
  {
   "cell_type": "code",
   "execution_count": null,
   "metadata": {
    "collapsed": true
   },
   "outputs": [],
   "source": [
    "df.groupby(['Temp_Jan_cat']).Temp_Jul.mean()"
   ]
  },
  {
   "cell_type": "markdown",
   "metadata": {},
   "source": [
    "If you actually want to view every variable as a function of <font color=\"red\">Temp_Jan_cat</font>:"
   ]
  },
  {
   "cell_type": "code",
   "execution_count": null,
   "metadata": {
    "collapsed": true
   },
   "outputs": [],
   "source": [
    "df.groupby(['Temp_Jan_cat']).mean()"
   ]
  },
  {
   "cell_type": "markdown",
   "metadata": {},
   "source": [
    "[<font color=\"gray\">▲▲▲</font>](#contents)"
   ]
  },
  {
   "cell_type": "markdown",
   "metadata": {},
   "source": [
    "## **<a name=\"q21\">21. Data conversions</a>**"
   ]
  },
  {
   "cell_type": "markdown",
   "metadata": {},
   "source": [
    "Another data transformation is converting the values using a computation. For example, we may want to create a new variable that reflects the difference between temperatures in January and July. "
   ]
  },
  {
   "cell_type": "code",
   "execution_count": null,
   "metadata": {
    "collapsed": true
   },
   "outputs": [],
   "source": [
    "df.loc[:,\"Tempdiff\"]= df.loc[:,\"Temp_Jan\"]-df.loc[:,\"Temp_Jul\"]"
   ]
  },
  {
   "cell_type": "markdown",
   "metadata": {},
   "source": [
    "Always make sure to inspect the result:"
   ]
  },
  {
   "cell_type": "code",
   "execution_count": null,
   "metadata": {
    "collapsed": true
   },
   "outputs": [],
   "source": [
    "df[['Place','Temp_Jan', 'Temp_Jul', 'Tempdiff']].head(3)"
   ]
  },
  {
   "cell_type": "markdown",
   "metadata": {},
   "source": [
    "A function can also be used to make a data conversion. For example, if we want to covert temperatures from Celsius into Fahrenheit, we need to make the following conversion<sup>12</sup>:\n",
    "    *T(°F) = T(°C) x 9/5 + 32*.\n",
    "If you only use this code once, you would probably do the following code, and it will give the new temperatures in Fahrenheit."
   ]
  },
  {
   "cell_type": "code",
   "execution_count": null,
   "metadata": {
    "collapsed": true
   },
   "outputs": [],
   "source": [
    "(df.Temp_Jan*9/5+32).head(3)"
   ]
  },
  {
   "cell_type": "markdown",
   "metadata": {},
   "source": [
    "However, if the conversion will be used anywhere else again, you may probably want to write a function<sup>13</sup>. Briefly, you use <font color=\"blue\">def</font> to define the function name including arguments. Do not forget the colon (:). Next line, after an indentation you define the desired transformation. "
   ]
  },
  {
   "cell_type": "code",
   "execution_count": null,
   "metadata": {
    "collapsed": true
   },
   "outputs": [],
   "source": [
    "def Tconv(x):\n",
    "    y=x*9/5+32\n",
    "    return y"
   ]
  },
  {
   "cell_type": "markdown",
   "metadata": {},
   "source": [
    "The next step is then to check the function, for example using input temperature 32 °C. <font color=\"blue\">Tconv(32)</font> gives an output of 89 °F."
   ]
  },
  {
   "cell_type": "code",
   "execution_count": null,
   "metadata": {
    "collapsed": true
   },
   "outputs": [],
   "source": [
    "Tconv(32)"
   ]
  },
  {
   "cell_type": "markdown",
   "metadata": {},
   "source": [
    "So now it is time to convert a whole column to Fahrenheit:"
   ]
  },
  {
   "cell_type": "markdown",
   "metadata": {},
   "source": [
    "Basically, the whole column is put in the function, and the output variable is directly written to the DataFrame."
   ]
  },
  {
   "cell_type": "code",
   "execution_count": null,
   "metadata": {
    "collapsed": true
   },
   "outputs": [],
   "source": [
    "df['Temp_JanF'] = Tconv(df['Temp_Jan'])\n",
    "df['Temp_JulF'] = Tconv(df['Temp_Jul'])"
   ]
  },
  {
   "cell_type": "code",
   "execution_count": null,
   "metadata": {
    "collapsed": true
   },
   "outputs": [],
   "source": [
    "df.head(3)"
   ]
  },
  {
   "cell_type": "markdown",
   "metadata": {},
   "source": [
    "[<font color=\"gray\">▲▲▲</font>](#contents)"
   ]
  },
  {
   "cell_type": "markdown",
   "metadata": {},
   "source": [
    "## **<a name=\"q22\">22. Merging data</a>**"
   ]
  },
  {
   "cell_type": "markdown",
   "metadata": {},
   "source": [
    "Another operation that is quite frequently used is <font color=\"blue\">merge</font>.\n",
    "Note that this is different from <font color=\"blue\">append</font> that we applied before, which only concatenated the rows of two dataframes. Now we are going to add a new column <font color=\"red\">Prec_Jan</font>, reflecting precipitation (rainfall).   "
   ]
  },
  {
   "cell_type": "code",
   "execution_count": null,
   "metadata": {
    "collapsed": true,
    "scrolled": true
   },
   "outputs": [],
   "source": [
    "data = {'Place': ['Amsterdam', 'Barcelona', 'Paris', 'Geneva', 'Munich', 'Athens', 'Vienna', 'Stockholm', 'Oslo','Helsinki', 'Lulea', 'Edinburgh', 'Birmingham', 'Cork', 'Antwerp', 'Lille', 'Bordeaux', 'Malaga', 'Porto', 'Venice', 'Ajaccio', 'Rijeka', 'Istanbul', 'Rome'],\n",
    "        'Prec_Jan': [66.6,43.7,53.7,76.0,48.0,56.9,21.3,39,54.9,52,34,67.5,73.2,131.4,69.3,60.5,87.3,69.0,147.1,47.0,56.7,128.7,105.0,66.9],\n",
    "        }\n",
    "df3 = pd.DataFrame(data, columns = ['Place', 'Prec_Jan'])"
   ]
  },
  {
   "cell_type": "code",
   "execution_count": null,
   "metadata": {
    "collapsed": true
   },
   "outputs": [],
   "source": [
    "df3.head(3)"
   ]
  },
  {
   "cell_type": "markdown",
   "metadata": {},
   "source": [
    "We are going to use the Pandas function <font color=\"blue\">pd.merge</font>. The columns of the two DataFrames are merged on <font color=\"blue\">Place</font>, and the parameter <font color=\"blue\">how='left'</font> means that dataset <font color=\"red\">df</font> serves as base (missing values are filled with NaN). "
   ]
  },
  {
   "cell_type": "code",
   "execution_count": null,
   "metadata": {
    "collapsed": true
   },
   "outputs": [],
   "source": [
    "df = pd.merge(df, df3, how='left', on='Place')"
   ]
  },
  {
   "cell_type": "code",
   "execution_count": null,
   "metadata": {
    "collapsed": true
   },
   "outputs": [],
   "source": [
    "df.head(3)"
   ]
  },
  {
   "cell_type": "markdown",
   "metadata": {},
   "source": [
    "[<font color=\"gray\">▲▲▲</font>](#contents)"
   ]
  },
  {
   "cell_type": "markdown",
   "metadata": {},
   "source": [
    "## **<a name=\"q23\">23. More scatterplots</a>**"
   ]
  },
  {
   "cell_type": "markdown",
   "metadata": {},
   "source": [
    "We already explored the relation between temperature in January and July, using the scatterplot function. We are now going to plot the relation between temperature and precipitation in January. "
   ]
  },
  {
   "cell_type": "code",
   "execution_count": null,
   "metadata": {
    "collapsed": true
   },
   "outputs": [],
   "source": [
    "mpl.rcParams['font.size'] = 10.0\n",
    "plt.figure(figsize = (8, 8))\n",
    "plt.scatter(df.Temp_Jan, df.Prec_Jan, c = 'yellow', s=50)\n",
    "plt.title('Relation between winter rain and temperature')\n",
    "plt.xlabel('Temperature in January (Celsius)')\n",
    "plt.ylabel('Precipitation in January (mm)')\n",
    "plt.show()"
   ]
  },
  {
   "cell_type": "markdown",
   "metadata": {},
   "source": [
    "Python offers several packages for data visualization. The following shows a similar scatterplot but now using Seaborn. It automatically adds a regression line to the plot. So what the data suggest is that when average temperatures were higher, the more rainfall there was in January."
   ]
  },
  {
   "cell_type": "code",
   "execution_count": null,
   "metadata": {
    "collapsed": true
   },
   "outputs": [],
   "source": [
    "sns.set(color_codes=True)\n",
    "ax = sns.regplot(x=\"Temp_Jan\", y=\"Prec_Jan\", data=df)\n",
    "ax.set(xlabel='Temperature in January (Celsius)', ylabel='precipitation in January (mm)')\n",
    "plt.show()"
   ]
  },
  {
   "cell_type": "markdown",
   "metadata": {},
   "source": [
    "[<font color=\"gray\">▲▲▲</font>](#contents)"
   ]
  },
  {
   "cell_type": "markdown",
   "metadata": {},
   "source": [
    "## **<a name=\"q24\">24. Geographical mapping</a>**"
   ]
  },
  {
   "cell_type": "markdown",
   "metadata": {
    "collapsed": true
   },
   "source": [
    "A geographic map can be made for these cities. For this purpose it would be nice to have coordinates, -- the longitude and latitude data --, for the different cities. The longitude is the distance east or west of the prime meridian (i.e., imaginary line from north to south through Greenwich, England). The latitude is the distance north or south of the equator. Both are measured in terms of the 360 degrees of a circle. "
   ]
  },
  {
   "cell_type": "code",
   "execution_count": null,
   "metadata": {
    "collapsed": true
   },
   "outputs": [],
   "source": [
    "data = {'Place': ['Amsterdam', 'Barcelona', 'Paris', 'Geneva', 'Munich', 'Athens', 'Vienna', 'Stockholm', 'Oslo', 'Helsinki', 'Lulea', 'Edinburgh', 'Birmingham', 'Cork', 'Antwerp', 'Lille', 'Bordeaux', 'Malaga', 'Porto', 'Venice', 'Ajaccio', 'Rijeka', 'Istanbul', 'Rome', 'Madrid'],\n",
    "        'Lat': [52.38, 41.38, 48.86, 46.20, 48.15, 37.97, 48.2, 59.32, 59.95, 60.17, 65.58, 55.95, 52.48, 51.90, 51.22, 50.64, 44.84, 36.72, 41.13, 45.44, 41.93, 45.33, 41.01, 41.89, 40.43],\n",
    "        'Long': [4.9, 2.18, 2.35, 6.14, 11.58, 23.72, 16.37, 18.07, 10.75, 24.94, 22.15, -3.19, -1.89, -8.48, 4.4, 3.06, -0.58, -4.42, -8.67, 12.33, 8.74, 14.44, 28.98, 12.49, -3.68]}\n",
    "\n",
    "dfr = pd.DataFrame(data, columns = ['Place', 'Lat', 'Long'])"
   ]
  },
  {
   "cell_type": "markdown",
   "metadata": {},
   "source": [
    "We merge the coordinates data with our available DataFrame. "
   ]
  },
  {
   "cell_type": "code",
   "execution_count": null,
   "metadata": {
    "collapsed": true
   },
   "outputs": [],
   "source": [
    "dfn = pd.merge(df, dfr, how='left', on='Place') # x=long, y=lat"
   ]
  },
  {
   "cell_type": "markdown",
   "metadata": {},
   "source": [
    "As a next step we inspect some data:"
   ]
  },
  {
   "cell_type": "code",
   "execution_count": null,
   "metadata": {
    "collapsed": true
   },
   "outputs": [],
   "source": [
    "dfn.head(3)"
   ]
  },
  {
   "cell_type": "markdown",
   "metadata": {},
   "source": [
    "We are then using Basemap for the geographical mapping. We do a straightforward map of the cities, with the diameter of circles reflecting the population size."
   ]
  },
  {
   "cell_type": "markdown",
   "metadata": {},
   "source": [
    "First, we need to use longitude and latitude data. It would therefore be good to identify the column <font color=\"red\">Lat</font> and <font color=\"red\">Long</font> *automatically*. This means, that the script should still work in the event we added or removed some of the columns. How to do that? The central part is using the function <font color=\"blue\">np.where</font>, and to search for the variable name."
   ]
  },
  {
   "cell_type": "code",
   "execution_count": null,
   "metadata": {
    "collapsed": true
   },
   "outputs": [],
   "source": [
    "np.where([dfn.columns=='Long'])"
   ]
  },
  {
   "cell_type": "code",
   "execution_count": null,
   "metadata": {
    "collapsed": true
   },
   "outputs": [],
   "source": [
    "dfn.columns"
   ]
  },
  {
   "cell_type": "markdown",
   "metadata": {},
   "source": [
    "The following then writes for each variable name the index of the column."
   ]
  },
  {
   "cell_type": "code",
   "execution_count": null,
   "metadata": {
    "collapsed": true
   },
   "outputs": [],
   "source": [
    "longitude = np.where([dfn.columns=='Long'])[1].tolist()[0]\n",
    "latitude = np.where([dfn.columns=='Lat'])[1].tolist()[0]\n",
    "population = np.where([dfn.columns=='Population'])[1].tolist()[0]"
   ]
  },
  {
   "cell_type": "code",
   "execution_count": null,
   "metadata": {
    "collapsed": true
   },
   "outputs": [],
   "source": [
    "print(longitude, latitude, population)"
   ]
  },
  {
   "cell_type": "markdown",
   "metadata": {},
   "source": [
    "The three parameters, - <font color=\"red\">longitude</font>, <font color=\"red\">latitude</font>, and <font color=\"red\">population</font> -, are used in the geographic plotting of the cities. Other code such as <font color=\"blue\">Basemap()</font>, <font color=\"blue\">drawmapboundary()</font>, <font color=\"blue\">etopo()</font>, <font color=\"blue\">drawcoastlines()</font>, <font color=\"blue\">drawcountries()</font> are all used to set-up the European map."
   ]
  },
  {
   "cell_type": "code",
   "execution_count": null,
   "metadata": {
    "collapsed": true
   },
   "outputs": [],
   "source": [
    "scale = 0.005\n",
    "\n",
    "plt.figure(figsize=(10,10))\n",
    "map = Basemap(projection='aeqd', lon_0 = 10, lat_0 = 50, width = 5000000, height = 5000000, resolution='l') # set res=h\n",
    "map.drawmapboundary(fill_color='white')\n",
    "map.etopo()\n",
    "map.drawcoastlines()\n",
    "map.drawcountries()\n",
    "\n",
    "for i in range(0,len(dfn)-1):\n",
    "        print(dfn.ix[i,longitude], dfn.ix[i,latitude])\n",
    "        x, y = map(dfn.ix[i,longitude], dfn.ix[i,latitude])\n",
    "        map.plot(x,y,marker='o', color='Red', markersize=int(math.sqrt(dfn.ix[i,population]))*scale)\n",
    "plt.show()"
   ]
  },
  {
   "cell_type": "markdown",
   "metadata": {},
   "source": [
    "[<font color=\"gray\">▲▲▲</font>](#contents)"
   ]
  },
  {
   "cell_type": "markdown",
   "metadata": {},
   "source": [
    "## **<a name=\"q25\">25. Lineplots</a>**"
   ]
  },
  {
   "cell_type": "markdown",
   "metadata": {},
   "source": [
    "Temperatures may differ given the longitude and latitude coordinates of the cities, and this is what we may inspect visually. Such a relationship between these coordinates and temperatures could be displayed with lineplots. It should be said in advance that strictly spoken it is not correct to use lineplots in this case, as the measures inbetween the single coordinates are unknown (actually NaNs, so we may not assume it to be linear inbetween). However, for this tutorial we accept this criticism as less important than the exploratory insight that these lineplot offer."
   ]
  },
  {
   "cell_type": "markdown",
   "metadata": {},
   "source": [
    "We start with the longitude data. A negative longitude means West of the prime meridian.\n",
    "To get a valid display of data, it needs to be sorted:"
   ]
  },
  {
   "cell_type": "code",
   "execution_count": null,
   "metadata": {
    "collapsed": true
   },
   "outputs": [],
   "source": [
    "dfn = dfn.sort_values(by='Long')"
   ]
  },
  {
   "cell_type": "code",
   "execution_count": null,
   "metadata": {
    "collapsed": true
   },
   "outputs": [],
   "source": [
    "dfn.Long.head(5)"
   ]
  },
  {
   "cell_type": "markdown",
   "metadata": {},
   "source": [
    "We then use the <font color=\"blue\">plot</font> function in Matplotlib. At first sight there seems no special trend, though it should be said that we only have few datapoints available."
   ]
  },
  {
   "cell_type": "code",
   "execution_count": null,
   "metadata": {
    "collapsed": true
   },
   "outputs": [],
   "source": [
    "sns.reset_orig()\n",
    "plt.figure(figsize = (8, 8))\n",
    "plt.plot(dfn.Long, dfn.Temp_Jan)\n",
    "plt.plot(dfn.Long, dfn.Temp_Jul)\n",
    "plt.xlabel('Longitude')\n",
    "plt.ylabel('Temperature (Celsius)')\n",
    "plt.legend(['Temperature January','Temperature July'], bbox_to_anchor=(0., 1.02, 1., .102), loc=3, mode=\"expand\", borderaxespad=0)\n",
    "plt.show()"
   ]
  },
  {
   "cell_type": "markdown",
   "metadata": {},
   "source": [
    "We do something similar for the latitude data. So we start sorting the data given the latitude. Note by the way that all values are positive, which is as expected, because all European cities are north of the equator.  "
   ]
  },
  {
   "cell_type": "code",
   "execution_count": null,
   "metadata": {
    "collapsed": true
   },
   "outputs": [],
   "source": [
    "dfn = dfn.sort_values(by='Lat')"
   ]
  },
  {
   "cell_type": "code",
   "execution_count": null,
   "metadata": {
    "collapsed": true
   },
   "outputs": [],
   "source": [
    "dfn.Lat.head(5)"
   ]
  },
  {
   "cell_type": "markdown",
   "metadata": {},
   "source": [
    "We again use the <font color=\"blue\">plot</font> function. As may be expected, there is a trend that southern cities have higher temperatures in January and July. Again, of course more data would be needed."
   ]
  },
  {
   "cell_type": "code",
   "execution_count": null,
   "metadata": {
    "collapsed": true
   },
   "outputs": [],
   "source": [
    "plt.figure(figsize = (8, 8))\n",
    "plt.plot(dfn.Lat, dfn.Temp_Jan)\n",
    "plt.plot(dfn.Lat, dfn.Temp_Jul)\n",
    "plt.xlabel('Latitude')\n",
    "plt.ylabel('Temperature (Celsius)')\n",
    "plt.legend(['Temperature January','Temperature July'], bbox_to_anchor=(0., 1.02, 1., .102), loc=3, mode=\"expand\", borderaxespad=0)\n",
    "plt.show()"
   ]
  },
  {
   "cell_type": "markdown",
   "metadata": {},
   "source": [
    "[<font color=\"gray\">▲▲▲</font>](#contents)"
   ]
  },
  {
   "cell_type": "markdown",
   "metadata": {},
   "source": [
    "## **<a name=\"q26\">26. Remove rows and columns</a>**"
   ]
  },
  {
   "cell_type": "markdown",
   "metadata": {
    "collapsed": true
   },
   "source": [
    "To keep data organized and manageable, sometimes unneeded data need to be removed. So let us practice how to use the <font color=\"blue\">del</font> function to delete data.\n",
    "\n",
    "Remove the column <font color=\"red\">MeasureDate</font> . So let us check again *before* the removal:"
   ]
  },
  {
   "cell_type": "code",
   "execution_count": null,
   "metadata": {
    "collapsed": true
   },
   "outputs": [],
   "source": [
    "dfn.head(2)"
   ]
  },
  {
   "cell_type": "markdown",
   "metadata": {},
   "source": [
    "Here is the <font color=\"blue\">del</font> command."
   ]
  },
  {
   "cell_type": "code",
   "execution_count": null,
   "metadata": {
    "collapsed": true
   },
   "outputs": [],
   "source": [
    "del dfn['MeasureDate']"
   ]
  },
  {
   "cell_type": "markdown",
   "metadata": {},
   "source": [
    "Now let us see the DataFrame *after* removal of a column."
   ]
  },
  {
   "cell_type": "code",
   "execution_count": null,
   "metadata": {
    "collapsed": true
   },
   "outputs": [],
   "source": [
    "dfn.head(2)"
   ]
  },
  {
   "cell_type": "markdown",
   "metadata": {},
   "source": [
    "If you want to remove the first column (index=0) and third column (index=2). To make this definitive, the result needs to be written to the object <font color=\"red\">dfn</font>, such as <font color=\"gray\">dfn = dfn.drop(dfn.columns[[0,2]], axis=1)</font>."
   ]
  },
  {
   "cell_type": "code",
   "execution_count": null,
   "metadata": {
    "collapsed": true
   },
   "outputs": [],
   "source": [
    "dfn.drop(dfn.columns[[0,2]], axis=1).head(2)"
   ]
  },
  {
   "cell_type": "markdown",
   "metadata": {},
   "source": [
    "[<font color=\"gray\">▲▲▲</font>](#contents)"
   ]
  },
  {
   "cell_type": "markdown",
   "metadata": {
    "collapsed": true
   },
   "source": [
    "## **<a name=\"q27\">27. Save DataFrame</a>** "
   ]
  },
  {
   "cell_type": "markdown",
   "metadata": {
    "collapsed": true
   },
   "source": [
    "We are going to save the DataFrame to a file with extension .csv. We name the file <font color=\"red\">dfn</font> including date in the filename, to always have a previous backup available. Of course, you can remove the date part if you like."
   ]
  },
  {
   "cell_type": "code",
   "execution_count": null,
   "metadata": {
    "collapsed": true
   },
   "outputs": [],
   "source": [
    "datestring = datetime.strftime(datetime.now(), '%Y-%m-%d')\n",
    "datestring\n",
    "dfn.to_csv('dfn-'+datestring+'.csv', sep=\",\")"
   ]
  },
  {
   "cell_type": "markdown",
   "metadata": {},
   "source": [
    "The file can be found back in the following directory:"
   ]
  },
  {
   "cell_type": "code",
   "execution_count": null,
   "metadata": {
    "collapsed": true
   },
   "outputs": [],
   "source": [
    "os.getcwd()"
   ]
  },
  {
   "cell_type": "markdown",
   "metadata": {},
   "source": [
    "[<font color=\"gray\">▲▲▲</font>](#contents)"
   ]
  },
  {
   "cell_type": "markdown",
   "metadata": {},
   "source": [
    "## **Closing words**"
   ]
  },
  {
   "cell_type": "markdown",
   "metadata": {},
   "source": [
    "Python offers excellent flexible solutions. The goal of this tutorial was to give a broad scope of preprocessing and visualizations while at the same time avoiding too much detail and long chapters as can be found in books. For this reason I have presented diverse preprocessing steps and data visualization packages such as Matplotlib, Seaborn, and Plotly. \n",
    "\n",
    "By no means this guide is exhaustive. If you feel that something essential is missing in this guide, if you discovered an error, if you have remarks, if you have ideas about other city data that are interesting for analysis, or if you just like to say <font color=\"orange\">hello</font> and get in contact, please do not hesitate to drop a message: <font color=\"blue\">rrighart@googlemail.com</font>\n",
    "\n",
    "I am looking forward to hearing from you! \n",
    "\n",
    "**Note**: Please make sure to check this site regularly for possible updates. \n"
   ]
  },
  {
   "cell_type": "markdown",
   "metadata": {},
   "source": [
    "[<font color=\"gray\">▲▲▲</font>](#contents)"
   ]
  },
  {
   "cell_type": "markdown",
   "metadata": {},
   "source": [
    "## **References**\n",
    "\n",
    "1. Pandas: http://pandas.pydata.org/pandas-docs/stable/10min.html\n",
    "2. Installation guide for Jupyter: https://jupyter.readthedocs.io/en/latest/install.html#install\n",
    "3. Formatting decimals: http://stackoverflow.com/questions/31700691/convert-commas-to-dots-within-a-dataframe\n",
    "4. Pandas concat: http://pandas.pydata.org/pandas-docs/stable/merging.html\n",
    "5. Missing values: http://pandas.pydata.org/pandas-docs/stable/missing_data.html\n",
    "6. Refrain from chained indexing: https://stackoverflow.com/questions/15315452/selecting-with-complex-criteria-from-pandas-dataframe\n",
    "7. Reset Seaborn layout: https://stackoverflow.com/questions/26899310/python-seaborn-to-reset-back-to-the-matplotlib\n",
    "8. Legend: https://matplotlib.org/users/legend_guide.html\n",
    "9. Colors in pie plot: http://stackoverflow.com/questions/21034830/how-can-i-generate-more-colors-on-pie-chart-matplotlib\n",
    "10. Starting with Plotly: https://plot.ly/python/getting-started/\n",
    "11. Group by in Pandas: https://pandas.pydata.org/pandas-docs/stable/generated/pandas.DataFrame.groupby.html\n",
    "12. Temperature conversion: http://www.rapidtables.com/convert/temperature/how-celsius-to-fahrenheit.htm\n",
    "13. Nice intro about writing functions: http://www.pythonlearn.com/html-008/cfbook005.html"
   ]
  },
  {
   "cell_type": "markdown",
   "metadata": {},
   "source": [
    "[<font color=\"gray\">▲▲▲</font>](#contents)"
   ]
  }
 ],
 "metadata": {
  "kernelspec": {
   "display_name": "Python 2",
   "language": "python",
   "name": "python2"
  },
  "language_info": {
   "codemirror_mode": {
    "name": "ipython",
    "version": 2
   },
   "file_extension": ".py",
   "mimetype": "text/x-python",
   "name": "python",
   "nbconvert_exporter": "python",
   "pygments_lexer": "ipython2",
   "version": "2.7.12"
  }
 },
 "nbformat": 4,
 "nbformat_minor": 2
}
